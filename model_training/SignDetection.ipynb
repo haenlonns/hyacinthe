{
 "cells": [
  {
   "cell_type": "code",
   "execution_count": null,
   "metadata": {},
   "outputs": [],
   "source": [
    "import os\n",
    "\n",
    "os.getcwd()"
   ]
  },
  {
   "cell_type": "code",
   "execution_count": null,
   "metadata": {},
   "outputs": [],
   "source": [
    "from roboflow import Roboflow\n",
    "rf = Roboflow(api_key=\"eGjHxmLCAIMYJ89pbtFB\")\n",
    "project = rf.workspace(\"eeetan\").project(\"doors-oyetk-kfpop-gv5s4\")\n",
    "version = project.version(1)\n",
    "dataset = version.download(\"yolov11\")"
   ]
  },
  {
   "cell_type": "code",
   "execution_count": 1,
   "metadata": {},
   "outputs": [],
   "source": [
    "from ultralytics import YOLO"
   ]
  },
  {
   "cell_type": "code",
   "execution_count": 2,
   "metadata": {},
   "outputs": [],
   "source": [
    "model = YOLO('yolo11n.pt')"
   ]
  },
  {
   "cell_type": "code",
   "execution_count": 3,
   "metadata": {},
   "outputs": [
    {
     "ename": "NameError",
     "evalue": "name 'model' is not defined",
     "output_type": "error",
     "traceback": [
      "\u001b[1;31m---------------------------------------------------------------------------\u001b[0m",
      "\u001b[1;31mNameError\u001b[0m                                 Traceback (most recent call last)",
      "Cell \u001b[1;32mIn[3], line 1\u001b[0m\n\u001b[1;32m----> 1\u001b[0m results \u001b[38;5;241m=\u001b[39m \u001b[43mmodel\u001b[49m\u001b[38;5;241m.\u001b[39mtrain(data\u001b[38;5;241m=\u001b[39m\u001b[38;5;124m\"\u001b[39m\u001b[38;5;124mC://Users/Eeeta/Geesehacks/hyacinthe/model_training/doors-1/data.yaml\u001b[39m\u001b[38;5;124m\"\u001b[39m, epochs\u001b[38;5;241m=\u001b[39m\u001b[38;5;241m20\u001b[39m, imgsz\u001b[38;5;241m=\u001b[39m\u001b[38;5;241m640\u001b[39m,batch\u001b[38;5;241m=\u001b[39m\u001b[38;5;241m8\u001b[39m)\n",
      "\u001b[1;31mNameError\u001b[0m: name 'model' is not defined"
     ]
    }
   ],
   "source": [
    "results = model.train(data=\"C://Users/Eeeta/Geesehacks/hyacinthe/model_training/doors-1/data.yaml\", epochs=20, imgsz=640,batch=8)"
   ]
  },
  {
   "cell_type": "code",
   "execution_count": 3,
   "metadata": {},
   "outputs": [],
   "source": [
    "trained = YOLO('sign.pt')"
   ]
  },
  {
   "cell_type": "code",
   "execution_count": 7,
   "metadata": {},
   "outputs": [],
   "source": [
    "import os\n",
    "from ultralytics import YOLO\n",
    "import cv2\n",
    "from doctr.models import ocr_predictor\n",
    "\n",
    "# Initialize the OCR model\n",
    "model = ocr_predictor(pretrained=True)\n",
    "\n",
    "# Open the webcam\n",
    "cap = cv2.VideoCapture(0)\n",
    "\n",
    "if not cap.isOpened():\n",
    "    print(\"Error: Could not open webcam.\")\n",
    "    exit()\n",
    "\n",
    "ids = set()\n",
    "\n",
    "while True:\n",
    "    # Capture frame-by-frame\n",
    "    ret, frame = cap.read()\n",
    "\n",
    "    if not ret:\n",
    "        print(\"Error: Failed to capture image.\")\n",
    "        break\n",
    "\n",
    "    # Run YOLO inference on the frame\n",
    "    results = trained.track(frame, persist=True, verbose=False, tracker='bytetrack.yaml', show=True, conf=0.65)\n",
    "\n",
    "    # Visualize the results on the frame\n",
    "    annotated_frame = results[0].plot()  # YOLOv8 has built-in plotting for results\n",
    "\n",
    "    # Process each detected object\n",
    "    for result in results[0].boxes:\n",
    "        # Extract bounding box, confidence, and class\n",
    "        box = result.xyxy[0].cpu().numpy()  # [x1, y1, x2, y2]\n",
    "        conf = result.conf.cpu().item()     # Confidence score\n",
    "        cls = int(result.cls.cpu().item())  # Class index\n",
    "        if(result.id is not None):\n",
    "            if(result.id not in ids):\n",
    "                id = int(result.id.cpu().item())\n",
    "\n",
    "                # Crop the frame around the detected object\n",
    "                x1, y1, x2, y2 = map(int, box)\n",
    "                cropped_object = frame[y1:y2, x1:x2]\n",
    "\n",
    "                # Convert the cropped image to RGB\n",
    "                cropped_object_rgb = cv2.cvtColor(cropped_object, cv2.COLOR_BGR2RGB)\n",
    "\n",
    "                # Use doctr to predict text\n",
    "                response = model([cropped_object_rgb])\n",
    "\n",
    "                print(response)\n",
    "                \n",
    "                text = \"\"\n",
    "\n",
    "                for page in response.pages:\n",
    "                    for block in page.blocks:\n",
    "                        for line in block.lines:\n",
    "                            for word in line.words:\n",
    "                                if(word.confidence > 0.5):\n",
    "                                    text += word.value\n",
    "                            text += \"\\n\"\n",
    "\n",
    "                print(text)\n",
    "\n",
    "    # Break the loop if 'q' is pressed\n",
    "    if cv2.waitKey(1) & 0xFF == ord('q'):\n",
    "        break\n",
    "\n",
    "# When everything is done, release the capture and close the window\n",
    "cap.release()\n",
    "cv2.destroyAllWindows()"
   ]
  }
 ],
 "metadata": {
  "kernelspec": {
   "display_name": ".venv",
   "language": "python",
   "name": "python3"
  },
  "language_info": {
   "codemirror_mode": {
    "name": "ipython",
    "version": 3
   },
   "file_extension": ".py",
   "mimetype": "text/x-python",
   "name": "python",
   "nbconvert_exporter": "python",
   "pygments_lexer": "ipython3",
   "version": "3.11.0"
  }
 },
 "nbformat": 4,
 "nbformat_minor": 2
}
